{
 "cells": [
  {
   "cell_type": "markdown",
   "metadata": {},
   "source": [
    "## Libraries and Packages"
   ]
  },
  {
   "cell_type": "code",
   "execution_count": 2,
   "metadata": {},
   "outputs": [],
   "source": [
    "# Python 3 environment \n",
    "import os\n",
    "\n",
    "# Machine Learning Classifiers\n",
    "from lightgbm import LGBMRegressor, Booster, cv as lgbcv, Dataset as lgbDs\n",
    "from sklearn import tree\n",
    "from sklearn.ensemble import RandomForestClassifier\n",
    "from sklearn.ensemble import RandomForestRegressor\n",
    "from sklearn.neighbors import KNeighborsClassifier\n",
    "\n",
    "# Unsupervised Clustering\n",
    "from sklearn.cluster import KMeans, DBSCAN\n",
    "from sklearn.mixture import GaussianMixture\n",
    "\n",
    "# Evaluation Tools\n",
    "from sklearn.feature_selection import RFECV\n",
    "from sklearn.metrics import confusion_matrix\n",
    "from sklearn.model_selection import KFold, cross_val_score, cross_val_predict, StratifiedKFold, GridSearchCV\n",
    " # for K-fold cross validation\n",
    "import time\n",
    "from sklearn.metrics import accuracy_score, roc_auc_score, roc_curve\n",
    "\n",
    "# Processing and Visualization Libraries\n",
    "import numpy as np\n",
    "import pandas as pd\n",
    "from IPython.display import Image\n",
    "import matplotlib.pyplot as plt\n",
    "import seaborn as sns\n",
    "from sklearn.model_selection import train_test_split\n",
    "from sklearn.preprocessing import MinMaxScaler, LabelEncoder\n",
    "from sklearn import preprocessing\n",
    "from sklearn import metrics\n",
    "from matplotlib.colors import ListedColormap\n",
    "import graphviz\n",
    "import zipfile\n",
    "import random\n",
    "\n",
    "import warnings\n",
    "warnings.filterwarnings('ignore')\n",
    "\n",
    "# New tools\n",
    "import gzip\n",
    "import m2cgen as m2c\n",
    "from sklearn.metrics import mean_squared_error\n",
    "from sklearn.metrics import r2_score\n",
    "from scipy.interpolate import make_interp_spline, BSpline"
   ]
  },
  {
   "cell_type": "code",
   "execution_count": 3,
   "metadata": {},
   "outputs": [],
   "source": [
    "# Allow Jupyter Notebook to display all output in the cell not just the last result\n",
    "from IPython.core.interactiveshell import InteractiveShell\n",
    "InteractiveShell.ast_node_interactivity = \"all\""
   ]
  },
  {
   "cell_type": "markdown",
   "metadata": {},
   "source": [
    "Max rows/columns to display"
   ]
  },
  {
   "cell_type": "code",
   "execution_count": 4,
   "metadata": {},
   "outputs": [],
   "source": [
    "pd.options.display.max_rows = 200\n",
    "pd.set_option('display.max_colwidth', -1)\n",
    "pd.set_option('display.max_columns', 999)"
   ]
  },
  {
   "cell_type": "code",
   "execution_count": 5,
   "metadata": {},
   "outputs": [],
   "source": [
    "# Unzip gdata\n",
    "file1 = gzip.open('D:\\Insight DS\\Airbnb\\April\\listings.csv.gz', 'rb')\n",
    "file2 = gzip.open('D:\\Insight DS\\Airbnb\\May\\listings.csv.gz', 'rb')\n",
    "file3 = gzip.open('D:\\Insight DS\\Airbnb\\June\\listings.csv.gz', 'rb')\n",
    "file4 = gzip.open('D:\\Insight DS\\Airbnb\\July\\listings.csv.gz', 'rb')\n",
    "\n",
    "l_df1 =pd.read_csv(file1)\n",
    "l_df2 =pd.read_csv(file2)\n",
    "l_df3 =pd.read_csv(file3)\n",
    "l_df4 =pd.read_csv(file4)"
   ]
  },
  {
   "cell_type": "code",
   "execution_count": 6,
   "metadata": {},
   "outputs": [],
   "source": [
    "l_df = pd.concat([l_df1, l_df2, l_df3, l_df4], ignore_index=True)\n",
    "\n",
    "file1.close()\n",
    "file2.close()\n",
    "file3.close()\n",
    "file4.close()"
   ]
  },
  {
   "cell_type": "code",
   "execution_count": 7,
   "metadata": {},
   "outputs": [
    {
     "data": {
      "text/plain": [
       "dtype('O')"
      ]
     },
     "execution_count": 7,
     "metadata": {},
     "output_type": "execute_result"
    },
    {
     "data": {
      "text/plain": [
       "10000.0"
      ]
     },
     "execution_count": 7,
     "metadata": {},
     "output_type": "execute_result"
    }
   ],
   "source": [
    "# Be careful with the data type \n",
    "l_df['price'].dtype\n",
    "# l_df['price'].max()\n",
    "l_df['price'].replace( '[\\$,)]','', regex=True ).replace( '[(]','-',   regex=True ).astype(float).max()"
   ]
  },
  {
   "cell_type": "code",
   "execution_count": 8,
   "metadata": {},
   "outputs": [],
   "source": [
    "# from pivottablejs import pivot_ui # a bit messy still\n",
    "# pivot_ui(l_df)"
   ]
  },
  {
   "cell_type": "code",
   "execution_count": 9,
   "metadata": {},
   "outputs": [],
   "source": [
    "# sns.distplot(l_df['price'].replace( '[\\$,)]','', regex=True )\n",
    "#                .replace( '[(]','-',   regex=True ).astype(float), kde=False)"
   ]
  },
  {
   "cell_type": "code",
   "execution_count": 10,
   "metadata": {},
   "outputs": [],
   "source": [
    "# sns.distplot(l_df['review_scores_rating'].dropna())"
   ]
  },
  {
   "cell_type": "code",
   "execution_count": 11,
   "metadata": {},
   "outputs": [],
   "source": [
    "# sns.distplot(l_df['review_scores_cleanliness'].dropna())"
   ]
  },
  {
   "cell_type": "code",
   "execution_count": 12,
   "metadata": {},
   "outputs": [],
   "source": [
    "# fig, axs = plt.subplots(figsize=(6,4))\n",
    "# axs.scatter(l_df['review_scores_rating'], l_df['price'].replace( '[\\$,)]','', regex=True ).replace( '[(]','-',   regex=True ).astype(float))\n",
    "# # axs.set_yticks(axs.get_yticks()[::10]) use this when tick labels overlap\n",
    "# axs.set_ylim([0, 5000])\n",
    "# plt.show()"
   ]
  },
  {
   "cell_type": "code",
   "execution_count": 13,
   "metadata": {},
   "outputs": [],
   "source": [
    "# # Select DataFrame Rows Based on multiple conditions on columns\n",
    "# l_df1 = l_df[['review_scores_rating', 'review_scores_cleanliness', 'review_scores_', 'price'\n",
    "#               ]][(l_df['review_scores_cleanliness'].notna())\n",
    "#                  & (l_df['review_scores_rating'].notna()) &\n",
    "#                  (l_df['price'].replace('[\\$,)]', '', regex=True).replace(\n",
    "#                      '[(]', '-', regex=True).astype(float) < 300)]\n",
    "# l_df1['price'] = l_df['price'].replace('[\\$,)]', '', regex=True).replace(\n",
    "#     '[(]', '-', regex=True).astype(float)\n",
    "# l_df1"
   ]
  },
  {
   "cell_type": "code",
   "execution_count": 14,
   "metadata": {},
   "outputs": [],
   "source": [
    "# F1 = 'bathrooms'\n",
    "# F2 = 'bedrooms'\n",
    "# F3 = 'beds'\n",
    "# F4 = 'minimum_nights'\n",
    "# F5 = 'maximum_nights'\n",
    "# F6 = 'availability_30'\n",
    "# F7 = 'availability_60'\n",
    "# F8 = 'instant_bookable'\n",
    "\n",
    "# l_df1 = l_df[[F1, F2, F3, F4, F5, F6, F7, F8, 'price', 'reviews_per_month'\n",
    "#               ]][(l_df[F1].notna())\n",
    "#                  & (l_df[F2].notna())\n",
    "#                  & (l_df[F3].notna())\n",
    "#                  & (l_df[F4].notna())\n",
    "#                  & (l_df[F5].notna())\n",
    "#                  & (l_df[F6].notna())\n",
    "#                  & (l_df[F7].notna())\n",
    "#                  & (l_df[F8].notna())\n",
    "#                  & (l_df['price'].replace('[\\$,)]', '', regex=True).replace(\n",
    "#                      '[(]', '-', regex=True).astype(float) < 300)\n",
    "#                  & (l_df['reviews_per_month'].notna())]\n",
    "# l_df1['price'] = l_df['price'].replace('[\\$,)]', '', regex=True).replace(\n",
    "#     '[(]', '-', regex=True).astype(float)\n",
    "# l_df1.describe()"
   ]
  },
  {
   "cell_type": "code",
   "execution_count": 15,
   "metadata": {},
   "outputs": [],
   "source": [
    "price_lo_bound = 20\n",
    "price_hi_bound = 500\n",
    "\n",
    "l_df1 = l_df\n",
    "l_df1[[\n",
    "    'price', 'weekly_price', 'monthly_price', 'security_deposit',\n",
    "    'cleaning_fee', 'extra_people'\n",
    "]] = l_df[[\n",
    "    'price', 'weekly_price', 'monthly_price', 'security_deposit',\n",
    "    'cleaning_fee', 'extra_people'\n",
    "]].replace('[\\$,)]', '', regex=True).replace('[(]', '-',\n",
    "                                             regex=True).astype(float)\n",
    "l_df1['host_response_rate'] = l_df['host_response_rate'].replace(\n",
    "    '[,\\%)]', '', regex=True).replace('[(]', '-', regex=True).astype(float)\n",
    "df_new = l_df1\n",
    "df_new = df_new[\n",
    "    (df_new['price'] >= price_lo_bound)\n",
    "    & (df_new['price'] <= price_hi_bound)].drop(\n",
    "        [\n",
    "            'scrape_id',\n",
    "            'listing_url',\n",
    "            'thumbnail_url',\n",
    "            'medium_url',\n",
    "            'xl_picture_url',\n",
    "            'last_scraped',\n",
    "            'name',\n",
    "            'host_id',\n",
    "            'summary',\n",
    "            'space',\n",
    "            'description',\n",
    "            'neighborhood_overview',\n",
    "            'notes',\n",
    "            'transit',\n",
    "            'access',\n",
    "            'interaction',\n",
    "            'picture_url',\n",
    "            'experiences_offered',\n",
    "            'house_rules',\n",
    "            'host_url',\n",
    "            'host_name',\n",
    "            'host_since',\n",
    "            'host_location',\n",
    "            'host_about',\n",
    "            'neighborhood_overview',\n",
    "            'host_thumbnail_url',\n",
    "            'host_picture_url',\n",
    "            'host_verifications',\n",
    "            'host_acceptance_rate',\n",
    "            'host_listings_count',\n",
    "            'host_total_listings_count',\n",
    "            'neighbourhood_group_cleansed',\n",
    "            'amenities',\n",
    "            'calendar_last_scraped',\n",
    "            # these might need to be considered\n",
    "            'first_review',\n",
    "            'last_review',\n",
    "            'number_of_reviews',\n",
    "            'number_of_reviews_ltm',\n",
    "            'review_scores_rating',\n",
    "            #\n",
    "            'license',\n",
    "            'jurisdiction_names',\n",
    "            #\n",
    "            'latitude',\n",
    "            'longitude',\n",
    "            'host_neighbourhood',\n",
    "            'calendar_updated',\n",
    "            #                         'neighbourhood_cleansed',  # not sure\n",
    "            'zipcode',\n",
    "            'calculated_host_listings_count',\n",
    "            'review_scores_value',\n",
    "            'review_scores_cleanliness',\n",
    "            'review_scores_location',\n",
    "            'review_scores_accuracy',\n",
    "            'review_scores_communication',\n",
    "            'maximum_minimum_nights',\n",
    "            'minimum_minimum_nights',\n",
    "            'maximum_maximum_nights',\n",
    "            'minimum_maximum_nights',\n",
    "            'country',\n",
    "            'host_response_rate',\n",
    "            'host_is_superhost',\n",
    "            'host_identity_verified',\n",
    "            'street',\n",
    "            'neighbourhood',\n",
    "            'city',\n",
    "            'state',\n",
    "            'market',\n",
    "            'smart_location',\n",
    "            'country_code',\n",
    "            'square_feet',\n",
    "            'minimum_nights_avg_ntm',\n",
    "            'maximum_nights_avg_ntm',\n",
    "            'has_availability',\n",
    "            'availability_30',\n",
    "            'availability_60',\n",
    "            'availability_90',\n",
    "            'availability_365',\n",
    "            'review_scores_checkin',\n",
    "            'requires_license',\n",
    "            'is_business_travel_ready',\n",
    "            'calculated_host_listings_count_entire_homes',\n",
    "            'calculated_host_listings_count_private_rooms',\n",
    "            'calculated_host_listings_count_shared_rooms',\n",
    "            'host_has_profile_pic',\n",
    "            'require_guest_profile_picture',\n",
    "            'require_guest_phone_verification',\n",
    "            'is_location_exact',\n",
    "            'bed_type',\n",
    "            'beds',\n",
    "            'bedrooms',\n",
    "            'bathrooms',\n",
    "            'cancellation_policy',\n",
    "            'instant_bookable',\n",
    "            'property_type',\n",
    "            'room_type',\n",
    "            'guests_included',\n",
    "            'host_response_time'\n",
    "        ],\n",
    "        axis=1)  #.sort_values(by=['price'])"
   ]
  },
  {
   "cell_type": "code",
   "execution_count": 16,
   "metadata": {},
   "outputs": [],
   "source": [
    "df_new = df_new[df_new['reviews_per_month'].notna()]\n",
    "# df_new['host_response_time'] = df_new['host_response_time'].fillna('NA')\n",
    "# df_new['bathrooms'] = df_new['bathrooms'].fillna(df_new['bathrooms'].value_counts().index[0])\n",
    "# df_new['bedrooms'] = df_new['bedrooms'].fillna(df_new['bedrooms'].value_counts().index[0])\n",
    "# df_new['beds'] = df_new['beds'].fillna(df_new['beds'].value_counts().index[0])\n",
    "df_new['weekly_price'] = df_new['weekly_price'].fillna(df_new['price']*7)\n",
    "df_new['monthly_price'] = df_new['monthly_price'].fillna(df_new['price']*30)\n",
    "df_new['security_deposit'] = df_new['security_deposit'].fillna(df_new['price']*2.75)\n",
    "df_new['cleaning_fee'] = df_new['cleaning_fee'].fillna(df_new['price']*0.67)\n",
    "df_new = df_new[df_new['minimum_nights'] <= 365]"
   ]
  },
  {
   "cell_type": "code",
   "execution_count": 17,
   "metadata": {},
   "outputs": [],
   "source": [
    "def occupancy_rate_est(data, alos, rr, coor):\n",
    "    # alos: average length of stay\n",
    "    # rr: review rate\n",
    "    # coor: cap of occupancy rate\n",
    "\n",
    "    data.loc[(data['minimum_nights'] <= alos) &\n",
    "             (data['maximum_nights'] >= alos\n",
    "              ), 'occupancy_%'] = data['reviews_per_month'] * alos / rr / 30\n",
    "\n",
    "    data.loc[(data['maximum_nights'] <= alos), 'occupancy_%'] = data[\n",
    "        'reviews_per_month'] * data['maximum_nights'] / rr / 30\n",
    "\n",
    "    data.loc[(data['minimum_nights'] >= alos), 'occupancy_%'] = data[\n",
    "        'reviews_per_month'] * data['minimum_nights'] / rr / 30\n",
    "\n",
    "    data['occupancy_%'] = data['occupancy_%'].where(\n",
    "        data['occupancy_%'] <= coor, coor)\n",
    "\n",
    "    return data.head(10)"
   ]
  },
  {
   "cell_type": "code",
   "execution_count": 18,
   "metadata": {
    "scrolled": true
   },
   "outputs": [
    {
     "data": {
      "text/html": [
       "<div>\n",
       "<style scoped>\n",
       "    .dataframe tbody tr th:only-of-type {\n",
       "        vertical-align: middle;\n",
       "    }\n",
       "\n",
       "    .dataframe tbody tr th {\n",
       "        vertical-align: top;\n",
       "    }\n",
       "\n",
       "    .dataframe thead th {\n",
       "        text-align: right;\n",
       "    }\n",
       "</style>\n",
       "<table border=\"1\" class=\"dataframe\">\n",
       "  <thead>\n",
       "    <tr style=\"text-align: right;\">\n",
       "      <th></th>\n",
       "      <th>id</th>\n",
       "      <th>neighbourhood_cleansed</th>\n",
       "      <th>accommodates</th>\n",
       "      <th>price</th>\n",
       "      <th>weekly_price</th>\n",
       "      <th>monthly_price</th>\n",
       "      <th>security_deposit</th>\n",
       "      <th>cleaning_fee</th>\n",
       "      <th>extra_people</th>\n",
       "      <th>minimum_nights</th>\n",
       "      <th>maximum_nights</th>\n",
       "      <th>reviews_per_month</th>\n",
       "      <th>occupancy_%</th>\n",
       "    </tr>\n",
       "  </thead>\n",
       "  <tbody>\n",
       "    <tr>\n",
       "      <th>0</th>\n",
       "      <td>958</td>\n",
       "      <td>Western Addition</td>\n",
       "      <td>3</td>\n",
       "      <td>170.0</td>\n",
       "      <td>1120.0</td>\n",
       "      <td>4200.0</td>\n",
       "      <td>100.00</td>\n",
       "      <td>100.0</td>\n",
       "      <td>25.0</td>\n",
       "      <td>1</td>\n",
       "      <td>30</td>\n",
       "      <td>1.55</td>\n",
       "      <td>0.394676</td>\n",
       "    </tr>\n",
       "    <tr>\n",
       "      <th>1</th>\n",
       "      <td>5858</td>\n",
       "      <td>Bernal Heights</td>\n",
       "      <td>5</td>\n",
       "      <td>235.0</td>\n",
       "      <td>1600.0</td>\n",
       "      <td>5500.0</td>\n",
       "      <td>646.25</td>\n",
       "      <td>100.0</td>\n",
       "      <td>0.0</td>\n",
       "      <td>30</td>\n",
       "      <td>60</td>\n",
       "      <td>0.92</td>\n",
       "      <td>1.000000</td>\n",
       "    </tr>\n",
       "    <tr>\n",
       "      <th>2</th>\n",
       "      <td>7918</td>\n",
       "      <td>Haight Ashbury</td>\n",
       "      <td>2</td>\n",
       "      <td>65.0</td>\n",
       "      <td>485.0</td>\n",
       "      <td>1685.0</td>\n",
       "      <td>200.00</td>\n",
       "      <td>50.0</td>\n",
       "      <td>12.0</td>\n",
       "      <td>32</td>\n",
       "      <td>60</td>\n",
       "      <td>0.15</td>\n",
       "      <td>0.222222</td>\n",
       "    </tr>\n",
       "    <tr>\n",
       "      <th>3</th>\n",
       "      <td>8142</td>\n",
       "      <td>Haight Ashbury</td>\n",
       "      <td>2</td>\n",
       "      <td>65.0</td>\n",
       "      <td>490.0</td>\n",
       "      <td>1685.0</td>\n",
       "      <td>200.00</td>\n",
       "      <td>50.0</td>\n",
       "      <td>12.0</td>\n",
       "      <td>32</td>\n",
       "      <td>90</td>\n",
       "      <td>0.14</td>\n",
       "      <td>0.207407</td>\n",
       "    </tr>\n",
       "    <tr>\n",
       "      <th>5</th>\n",
       "      <td>8567</td>\n",
       "      <td>Western Addition</td>\n",
       "      <td>6</td>\n",
       "      <td>255.0</td>\n",
       "      <td>1785.0</td>\n",
       "      <td>7650.0</td>\n",
       "      <td>0.00</td>\n",
       "      <td>125.0</td>\n",
       "      <td>0.0</td>\n",
       "      <td>2</td>\n",
       "      <td>365</td>\n",
       "      <td>0.27</td>\n",
       "      <td>0.068750</td>\n",
       "    </tr>\n",
       "    <tr>\n",
       "      <th>6</th>\n",
       "      <td>8739</td>\n",
       "      <td>Mission</td>\n",
       "      <td>3</td>\n",
       "      <td>139.0</td>\n",
       "      <td>973.0</td>\n",
       "      <td>9999.0</td>\n",
       "      <td>0.00</td>\n",
       "      <td>50.0</td>\n",
       "      <td>60.0</td>\n",
       "      <td>1</td>\n",
       "      <td>14</td>\n",
       "      <td>5.57</td>\n",
       "      <td>1.000000</td>\n",
       "    </tr>\n",
       "    <tr>\n",
       "      <th>7</th>\n",
       "      <td>9225</td>\n",
       "      <td>Potrero Hill</td>\n",
       "      <td>2</td>\n",
       "      <td>135.0</td>\n",
       "      <td>1000.0</td>\n",
       "      <td>4000.0</td>\n",
       "      <td>371.25</td>\n",
       "      <td>50.0</td>\n",
       "      <td>0.0</td>\n",
       "      <td>1</td>\n",
       "      <td>365</td>\n",
       "      <td>3.98</td>\n",
       "      <td>1.000000</td>\n",
       "    </tr>\n",
       "    <tr>\n",
       "      <th>8</th>\n",
       "      <td>10251</td>\n",
       "      <td>Mission</td>\n",
       "      <td>6</td>\n",
       "      <td>265.0</td>\n",
       "      <td>1540.0</td>\n",
       "      <td>5400.0</td>\n",
       "      <td>500.00</td>\n",
       "      <td>100.0</td>\n",
       "      <td>45.0</td>\n",
       "      <td>3</td>\n",
       "      <td>30</td>\n",
       "      <td>2.80</td>\n",
       "      <td>0.712963</td>\n",
       "    </tr>\n",
       "    <tr>\n",
       "      <th>9</th>\n",
       "      <td>10820</td>\n",
       "      <td>Haight Ashbury</td>\n",
       "      <td>3</td>\n",
       "      <td>177.0</td>\n",
       "      <td>1239.0</td>\n",
       "      <td>5310.0</td>\n",
       "      <td>2500.00</td>\n",
       "      <td>208.0</td>\n",
       "      <td>0.0</td>\n",
       "      <td>30</td>\n",
       "      <td>1125</td>\n",
       "      <td>0.32</td>\n",
       "      <td>0.444444</td>\n",
       "    </tr>\n",
       "    <tr>\n",
       "      <th>10</th>\n",
       "      <td>10824</td>\n",
       "      <td>Western Addition</td>\n",
       "      <td>5</td>\n",
       "      <td>194.0</td>\n",
       "      <td>1358.0</td>\n",
       "      <td>5820.0</td>\n",
       "      <td>3000.00</td>\n",
       "      <td>208.0</td>\n",
       "      <td>0.0</td>\n",
       "      <td>30</td>\n",
       "      <td>1125</td>\n",
       "      <td>0.16</td>\n",
       "      <td>0.222222</td>\n",
       "    </tr>\n",
       "  </tbody>\n",
       "</table>\n",
       "</div>"
      ],
      "text/plain": [
       "       id neighbourhood_cleansed  accommodates  price  weekly_price  \\\n",
       "0   958    Western Addition       3             170.0  1120.0         \n",
       "1   5858   Bernal Heights         5             235.0  1600.0         \n",
       "2   7918   Haight Ashbury         2             65.0   485.0          \n",
       "3   8142   Haight Ashbury         2             65.0   490.0          \n",
       "5   8567   Western Addition       6             255.0  1785.0         \n",
       "6   8739   Mission                3             139.0  973.0          \n",
       "7   9225   Potrero Hill           2             135.0  1000.0         \n",
       "8   10251  Mission                6             265.0  1540.0         \n",
       "9   10820  Haight Ashbury         3             177.0  1239.0         \n",
       "10  10824  Western Addition       5             194.0  1358.0         \n",
       "\n",
       "    monthly_price  security_deposit  cleaning_fee  extra_people  \\\n",
       "0   4200.0         100.00            100.0         25.0           \n",
       "1   5500.0         646.25            100.0         0.0            \n",
       "2   1685.0         200.00            50.0          12.0           \n",
       "3   1685.0         200.00            50.0          12.0           \n",
       "5   7650.0         0.00              125.0         0.0            \n",
       "6   9999.0         0.00              50.0          60.0           \n",
       "7   4000.0         371.25            50.0          0.0            \n",
       "8   5400.0         500.00            100.0         45.0           \n",
       "9   5310.0         2500.00           208.0         0.0            \n",
       "10  5820.0         3000.00           208.0         0.0            \n",
       "\n",
       "    minimum_nights  maximum_nights  reviews_per_month  occupancy_%  \n",
       "0   1               30              1.55               0.394676     \n",
       "1   30              60              0.92               1.000000     \n",
       "2   32              60              0.15               0.222222     \n",
       "3   32              90              0.14               0.207407     \n",
       "5   2               365             0.27               0.068750     \n",
       "6   1               14              5.57               1.000000     \n",
       "7   1               365             3.98               1.000000     \n",
       "8   3               30              2.80               0.712963     \n",
       "9   30              1125            0.32               0.444444     \n",
       "10  30              1125            0.16               0.222222     "
      ]
     },
     "execution_count": 18,
     "metadata": {},
     "output_type": "execute_result"
    }
   ],
   "source": [
    "occupancy_rate_est(df_new, 5.5, 0.72, 1)"
   ]
  },
  {
   "cell_type": "code",
   "execution_count": 19,
   "metadata": {},
   "outputs": [],
   "source": [
    "df_new['revenue'] = df_new['price']*df_new['occupancy_%']"
   ]
  },
  {
   "cell_type": "code",
   "execution_count": 20,
   "metadata": {},
   "outputs": [
    {
     "data": {
      "text/plain": [
       "<matplotlib.axes._subplots.AxesSubplot at 0x1a913ebc160>"
      ]
     },
     "execution_count": 20,
     "metadata": {},
     "output_type": "execute_result"
    },
    {
     "data": {
      "image/png": "[encoded data removed]",
      "text/plain": [
       "<Figure size 432x288 with 1 Axes>"
      ]
     },
     "metadata": {
      "needs_background": "light"
     },
     "output_type": "display_data"
    }
   ],
   "source": [
    "df_new['neighbourhood_cleansed'].value_counts().plot.bar()"
   ]
  },
  {
   "cell_type": "code",
   "execution_count": 21,
   "metadata": {},
   "outputs": [],
   "source": [
    "class MultiColumnLabelEncoder(LabelEncoder):\n",
    "    \"\"\"\n",
    "    Wraps sklearn LabelEncoder functionality for use on multiple columns of a\n",
    "    pandas dataframe.\n",
    "\n",
    "    \"\"\"\n",
    "    def __init__(self, columns=None):\n",
    "        self.columns = columns\n",
    "\n",
    "    def fit(self, dframe):\n",
    "        \"\"\"\n",
    "        Fit label encoder to pandas columns.\n",
    "\n",
    "        Access individual column classes via indexig `self.all_classes_`\n",
    "\n",
    "        Access individual column encoders via indexing\n",
    "        `self.all_encoders_`\n",
    "        \"\"\"\n",
    "        # if columns are provided, iterate through and get `classes_`\n",
    "        if self.columns is not None:\n",
    "            # ndarray to hold LabelEncoder().classes_ for each\n",
    "            # column; should match the shape of specified `columns`\n",
    "            self.all_classes_ = np.ndarray(shape=self.columns.shape,\n",
    "                                           dtype=object)\n",
    "            self.all_encoders_ = np.ndarray(shape=self.columns.shape,\n",
    "                                            dtype=object)\n",
    "            for idx, column in enumerate(self.columns):\n",
    "                # fit LabelEncoder to get `classes_` for the column\n",
    "                le = LabelEncoder()\n",
    "                le.fit(dframe.loc[:, column].values)\n",
    "                # append the `classes_` to our ndarray container\n",
    "                self.all_classes_[idx] = (column,\n",
    "                                          np.array(le.classes_.tolist(),\n",
    "                                                   dtype=object))\n",
    "                # append this column's encoder\n",
    "                self.all_encoders_[idx] = le\n",
    "        else:\n",
    "            # no columns specified; assume all are to be encoded\n",
    "            self.columns = dframe.iloc[:, :].columns\n",
    "            self.all_classes_ = np.ndarray(shape=self.columns.shape,\n",
    "                                           dtype=object)\n",
    "            for idx, column in enumerate(self.columns):\n",
    "                le = LabelEncoder()\n",
    "                le.fit(dframe.loc[:, column].values)\n",
    "                self.all_classes_[idx] = (column,\n",
    "                                          np.array(le.classes_.tolist(),\n",
    "                                                   dtype=object))\n",
    "                self.all_encoders_[idx] = le\n",
    "        return self\n",
    "\n",
    "    def fit_transform(self, dframe):\n",
    "        \"\"\"\n",
    "        Fit label encoder and return encoded labels.\n",
    "\n",
    "        Access individual column classes via indexing\n",
    "        `self.all_classes_`\n",
    "\n",
    "        Access individual column encoders via indexing\n",
    "        `self.all_encoders_`\n",
    "\n",
    "        Access individual column encoded labels via indexing\n",
    "        `self.all_labels_`\n",
    "        \"\"\"\n",
    "        # if columns are provided, iterate through and get `classes_`\n",
    "        if self.columns is not None:\n",
    "            # ndarray to hold LabelEncoder().classes_ for each\n",
    "            # column; should match the shape of specified `columns`\n",
    "            self.all_classes_ = np.ndarray(shape=self.columns.shape,\n",
    "                                           dtype=object)\n",
    "            self.all_encoders_ = np.ndarray(shape=self.columns.shape,\n",
    "                                            dtype=object)\n",
    "            self.all_labels_ = np.ndarray(shape=self.columns.shape,\n",
    "                                          dtype=object)\n",
    "            for idx, column in enumerate(self.columns):\n",
    "                # instantiate LabelEncoder\n",
    "                le = LabelEncoder()\n",
    "                # fit and transform labels in the column\n",
    "                dframe.loc[:, column] =\\\n",
    "                    le.fit_transform(dframe.loc[:, column].values)\n",
    "                # append the `classes_` to our ndarray container\n",
    "                self.all_classes_[idx] = (column,\n",
    "                                          np.array(le.classes_.tolist(),\n",
    "                                                   dtype=object))\n",
    "                self.all_encoders_[idx] = le\n",
    "                self.all_labels_[idx] = le\n",
    "        else:\n",
    "            # no columns specified; assume all are to be encoded\n",
    "            self.columns = dframe.iloc[:, :].columns\n",
    "            self.all_classes_ = np.ndarray(shape=self.columns.shape,\n",
    "                                           dtype=object)\n",
    "            for idx, column in enumerate(self.columns):\n",
    "                le = LabelEncoder()\n",
    "                dframe.loc[:, column] = le.fit_transform(\n",
    "                    dframe.loc[:, column].values)\n",
    "                self.all_classes_[idx] = (column,\n",
    "                                          np.array(le.classes_.tolist(),\n",
    "                                                   dtype=object))\n",
    "                self.all_encoders_[idx] = le\n",
    "        return dframe\n",
    "\n",
    "    def transform(self, dframe):\n",
    "        \"\"\"\n",
    "        Transform labels to normalized encoding.\n",
    "        \"\"\"\n",
    "        if self.columns is not None:\n",
    "            for idx, column in enumerate(self.columns):\n",
    "                dframe.loc[:, column] = self.all_encoders_[idx].transform(\n",
    "                    dframe.loc[:, column].values)\n",
    "        else:\n",
    "            self.columns = dframe.iloc[:, :].columns\n",
    "            for idx, column in enumerate(self.columns):\n",
    "                dframe.loc[:, column] = self.all_encoders_[idx]\\\n",
    "                    .transform(dframe.loc[:, column].values)\n",
    "        return dframe.loc[:, self.columns].values\n",
    "\n",
    "    def inverse_transform(self, dframe):\n",
    "        \"\"\"\n",
    "        Transform labels back to original encoding.\n",
    "        \"\"\"\n",
    "        if self.columns is not None:\n",
    "            for idx, column in enumerate(self.columns):\n",
    "                dframe.loc[:, column] = self.all_encoders_[idx]\\\n",
    "                    .inverse_transform(dframe.loc[:, column].values)\n",
    "        else:\n",
    "            self.columns = dframe.iloc[:, :].columns\n",
    "            for idx, column in enumerate(self.columns):\n",
    "                dframe.loc[:, column] = self.all_encoders_[idx]\\\n",
    "                    .inverse_transform(dframe.loc[:, column].values)\n",
    "        return dframe"
   ]
  },
  {
   "cell_type": "code",
   "execution_count": 22,
   "metadata": {},
   "outputs": [],
   "source": [
    "# find object columns\n",
    "object_columns = df_new.iloc[:, :].select_dtypes(include=['object']).columns\n",
    "\n",
    "# Multi-column label encoding\n",
    "mcle = MultiColumnLabelEncoder(columns = object_columns)\n",
    "df_go = mcle.fit_transform(df_new)"
   ]
  },
  {
   "cell_type": "code",
   "execution_count": 23,
   "metadata": {},
   "outputs": [],
   "source": [
    "### Split Data\n",
    "# Randomly split dataframe into train and test with a certain ratio\n",
    "msk = np.random.rand(len(df_go)) < 0.8\n",
    "\n",
    "train = df_go[msk]\n",
    "train1 = train.copy()\n",
    "train1['price'] = train1['price'] * 2\n",
    "train1['occupancy_%'] = train1['occupancy_%'] * 0\n",
    "train1['revenue'] = train1['price'] * train1['occupancy_%']\n",
    "train2 = train.copy()\n",
    "train2['price'] = train1['price'] * 0\n",
    "train2['occupancy_%'] = 1\n",
    "train2['revenue'] = train2['price'] * train2['occupancy_%']\n",
    "train = train.append(train1, ignore_index=True)\n",
    "train = train.append(train2, ignore_index=True)\n",
    "\n",
    "test = df_go[~msk]\n",
    "test = test[test['price'] > 0]\n",
    "test = test.drop_duplicates(subset='id', keep='first', inplace=False);"
   ]
  },
  {
   "cell_type": "code",
   "execution_count": 24,
   "metadata": {},
   "outputs": [],
   "source": [
    "from sklearn.utils import shuffle\n",
    "train = shuffle(train)\n",
    "test = shuffle(test)"
   ]
  },
  {
   "cell_type": "code",
   "execution_count": 25,
   "metadata": {},
   "outputs": [],
   "source": [
    "# Assign independent variables as x and the target variable as y\n",
    "x_train = train.drop(['id', 'reviews_per_month','occupancy_%', 'revenue'], axis=1)\n",
    "y_train = train['occupancy_%']\n",
    "x_test = test.drop(['id', 'reviews_per_month','occupancy_%', 'revenue'], axis=1)\n",
    "y_test = test['occupancy_%']"
   ]
  },
  {
   "cell_type": "code",
   "execution_count": 26,
   "metadata": {},
   "outputs": [],
   "source": [
    "# ### Feature Scaling\n",
    "# # Normalize the range of independent variables to ensure the variable weights are not influenced by the scale difference as well as to improve the convergence speed of algorithms\n",
    "# min_max_scaler = MinMaxScaler()\n",
    "# x_train = min_max_scaler.fit_transform(x_train)\n",
    "# x_test = min_max_scaler.fit_transform(x_test)"
   ]
  },
  {
   "cell_type": "markdown",
   "metadata": {},
   "source": [
    "### Machine Learning Setups and Evaluations\n",
    "#### LightGBM"
   ]
  },
  {
   "cell_type": "code",
   "execution_count": 61,
   "metadata": {},
   "outputs": [
    {
     "name": "stdout",
     "output_type": "stream",
     "text": [
      "Fitting 5 folds for each of 60 candidates, totalling 300 fits\n"
     ]
    },
    {
     "name": "stderr",
     "output_type": "stream",
     "text": [
      "[Parallel(n_jobs=-1)]: Using backend LokyBackend with 8 concurrent workers.\n",
      "[Parallel(n_jobs=-1)]: Done  34 tasks      | elapsed:    7.0s\n",
      "[Parallel(n_jobs=-1)]: Done 184 tasks      | elapsed:  1.1min\n",
      "[Parallel(n_jobs=-1)]: Done 300 out of 300 | elapsed:  2.1min finished\n"
     ]
    },
    {
     "name": "stdout",
     "output_type": "stream",
     "text": [
      "Best: 0.918743 using {'max_depth': 15, 'n_estimators': 500}\n"
     ]
    }
   ],
   "source": [
    "# Grid Search\n",
    "lgb = LGBMRegressor()\n",
    "n_estimators = [5,10,20,30,40,50,100,150,200,250,300,350,400,450,500]\n",
    "max_depth = [3,5,10,15]\n",
    "param_grid = dict(max_depth=max_depth, n_estimators=n_estimators)\n",
    "# kfold = StratifiedKFold(n_splits=5, shuffle=True, random_state=7)\n",
    "grid_search = GridSearchCV(lgb, param_grid, n_jobs=-1, scoring='r2', cv=5, verbose=1)\n",
    "grid_result = grid_search.fit(x_train, y_train)\n",
    "# summarize results\n",
    "print(\"Best: %f using %s\" % (grid_result.best_score_, grid_result.best_params_))\n",
    "means = grid_result.cv_results_['mean_test_score']\n",
    "stds = grid_result.cv_results_['std_test_score']\n",
    "params = grid_result.cv_results_['params']\n",
    "# for mean, stdev, param in zip(means, stds, params):\n",
    "#     print(\"%f (%f) with: %r\" % (mean, stdev, param))"
   ]
  },
  {
   "cell_type": "code",
   "execution_count": 62,
   "metadata": {},
   "outputs": [
    {
     "data": {
      "image/png": "[encoded data removed]",
      "text/plain": [
       "<Figure size 864x432 with 1 Axes>"
      ]
     },
     "metadata": {
      "needs_background": "light"
     },
     "output_type": "display_data"
    }
   ],
   "source": [
    "# Plot grid search results\n",
    "plt.figure(figsize=(12,6));\n",
    "scores = np.array(means).reshape(len(max_depth), len(n_estimators))\n",
    "stdevs = np.array(stds).reshape(len(max_depth), len(n_estimators))\n",
    "for i, value in enumerate(max_depth):\n",
    "    plt.plot(n_estimators, scores[i], label='max_depth = ' + str(value));\n",
    "    plt.fill_between(n_estimators, scores[i]-stdevs[i], scores[i]+stdevs[i], color='#888888', alpha=0.4);\n",
    "plt.xlim(0,500)\n",
    "plt.ylim(0.75,1)\n",
    "plt.legend()\n",
    "plt.xlabel('n_estimators');\n",
    "plt.ylabel('mean of R-square');\n",
    "plt.savefig('n_estimators_vs_max_depth.png');\n"
   ]
  },
  {
   "cell_type": "code",
   "execution_count": 320,
   "metadata": {},
   "outputs": [],
   "source": [
    "# Set general hyperparameters for all ML packages using the grid search result\n",
    "max_depth = 12\n",
    "n_estimator = 1200\n",
    "random_state = 110"
   ]
  },
  {
   "cell_type": "code",
   "execution_count": 321,
   "metadata": {
    "scrolled": true
   },
   "outputs": [
    {
     "name": "stdout",
     "output_type": "stream",
     "text": [
      "Wall time: 2.19 s\n"
     ]
    }
   ],
   "source": [
    "%%time\n",
    "# start = time.time()\n",
    "lgb = LGBMRegressor(max_depth=max_depth,\n",
    "                    n_estimators=n_estimator,\n",
    "                    random_state=random_state)\n",
    "lgb.fit(x_train, y_train, categorical_feature=list(object_columns.values))\n",
    "# code = m2c.export_to_python(lgb); # try next line first\n",
    "lgb.booster_.save_model('lgb_regressor.txt')\n",
    "# from sklearn.externals import joblib\n",
    "# joblib.dump(lgb, 'lgb.pkl')\n",
    "# acc_lgb = accuracy_score(y_test, lgb.predict(x_test))\n",
    "\n",
    "y_pred_lgb = lgb.predict(x_test)\n",
    "\n",
    "# fpr_lgb, tpr_lgb, _ = roc_curve(y_test, y_pred_lgb, drop_intermediate=False)\n",
    "# auc_lgb = roc_auc_score(y_test, y_pred_lgb)\n",
    "# end = time.time()\n",
    "# time_lgb = end - start\n",
    "# print(\"The entire evaluation takes\", time_lgb, \"s\")"
   ]
  },
  {
   "cell_type": "code",
   "execution_count": 322,
   "metadata": {},
   "outputs": [],
   "source": [
    "# #Cross Validation\n",
    "# dftrainLGB = lgbDs(data = x_train, label = y_train, feature_name = list(x_train))\n",
    "\n",
    "# params = {'objective': 'regression', 'max_depth': 30}\n",
    "# cv_results = lgbcv(\n",
    "#         params,\n",
    "#         dftrainLGB,\n",
    "#         num_boost_round=1100,\n",
    "#         nfold=5,\n",
    "#         metrics='rmse',\n",
    "#         early_stopping_rounds=10,\n",
    "#         categorical_feature=list(object_columns.values),\n",
    "\n",
    "#         # This is what I added\n",
    "#         stratified=False\n",
    "#         )"
   ]
  },
  {
   "cell_type": "code",
   "execution_count": 323,
   "metadata": {},
   "outputs": [],
   "source": [
    "# plt.plot(list(range(1,1101,1)), cv_results['rmse-mean'])"
   ]
  },
  {
   "cell_type": "code",
   "execution_count": 324,
   "metadata": {},
   "outputs": [],
   "source": [
    "# ttt = Booster(model_file='lgb_regressor.txt')\n",
    "# ttt.predict(x_test)\n",
    "# gbm_pickle = joblib.load('lgb.pkl')"
   ]
  },
  {
   "cell_type": "code",
   "execution_count": 325,
   "metadata": {},
   "outputs": [
    {
     "name": "stdout",
     "output_type": "stream",
     "text": [
      "RMSE = 0.15575153386777196\n",
      "R^2 = 0.811563617605614\n",
      "RMSE = 29.834434782760052\n",
      "R^2 = 0.8400460043239413\n",
      "Wall time: 40.9 ms\n"
     ]
    },
    {
     "data": {
      "image/png": "[encoded data removed]",
      "text/plain": [
       "<Figure size 1152x288 with 3 Axes>"
      ]
     },
     "metadata": {
      "needs_background": "light"
     },
     "output_type": "display_data"
    }
   ],
   "source": [
    "%%time\n",
    "f, axs = plt.subplots(1, 3, figsize=(16,4))\n",
    "f.subplots_adjust(wspace=0.4);\n",
    "\n",
    "axs[0].plot(y_pred_lgb, y_test, 'gs', markersize=2)\n",
    "axs[0].set(xlim=(0, 1), ylim=(0, 1), xlabel='Pred. Occupancy%', ylabel='Occupancy%')\n",
    "axs[0].plot([0, 1000], [0, 1000], 'k--')\n",
    "\n",
    "axs[1].plot(x_test['price']*y_pred_lgb, x_test['price']*y_test, 'gs', markersize=2)\n",
    "axs[1].set(xlim=(0, 500), ylim=(0, 500), xlabel='Pred. Revenue', ylabel='Revenue')\n",
    "axs[1].plot([0, 500], [0, 500], 'k--')\n",
    "\n",
    "axs[2].plot(x_test['price']*y_pred_lgb, (x_test['price']*y_test - x_test['price']*y_pred_lgb), 'gs', markersize=2)\n",
    "axs[2].set(xlim=(0, 200), ylim=(-200, 200), xlabel='Pred. Occupancy%', ylabel='Occupancy Residual')\n",
    "\n",
    "\n",
    "print('RMSE =', np.sqrt(mean_squared_error(y_test, y_pred_lgb)))\n",
    "print('R^2 =', r2_score(y_test, y_pred_lgb))\n",
    "print('RMSE =', np.sqrt(mean_squared_error(x_test['price']*y_test, x_test['price']*y_pred_lgb)))\n",
    "print('R^2 =',r2_score(x_test['price']*y_test, x_test['price']*y_pred_lgb))"
   ]
  },
  {
   "cell_type": "code",
   "execution_count": 29,
   "metadata": {
    "scrolled": true
   },
   "outputs": [
    {
     "data": {
      "image/png": "[encoded data removed]",
      "text/plain": [
       "<Figure size 432x432 with 1 Axes>"
      ]
     },
     "metadata": {
      "needs_background": "light"
     },
     "output_type": "display_data"
    }
   ],
   "source": [
    "plt.figure(figsize=(6, 6));\n",
    "pd.Series(lgb.feature_importances_,x_train.columns).sort_values(ascending=True).plot.barh(width=0.8);\n",
    "plt.title('Feature Importance in Gradient Boosting (LGBM)');\n",
    "plt.show();"
   ]
  },
  {
   "cell_type": "code",
   "execution_count": 30,
   "metadata": {},
   "outputs": [],
   "source": [
    "## heatmap\n",
    "# f,ax = plt.subplots(figsize=(8, 8))\n",
    "# sns.set(font_scale=1.0)\n",
    "# sns.heatmap(df_go.corr(), annot=True, linewidths=1, cmap = plt.cm.RdYlBu_r, vmin = -0.5, vmax = 0.8,fmt= '.1f')\n",
    "# plt.title('Correlation Heatmap')\n",
    "# plt.show()\n",
    "# sns.reset_orig()"
   ]
  },
  {
   "cell_type": "code",
   "execution_count": 350,
   "metadata": {},
   "outputs": [
    {
     "name": "stdout",
     "output_type": "stream",
     "text": [
      "original price is $ 61.0\n",
      "original monthly revenue is $ 711.6666666666667\n",
      "model predicted monthly revenue is $ 701.2109976857514\n",
      "optimal monthly revenue is $ 1049.144551559859\n",
      "optimized price is $ 55\n"
     ]
    },
    {
     "data": {
      "image/png": "[encoded data removed]",
      "text/plain": [
       "<Figure size 1440x720 with 2 Axes>"
      ]
     },
     "metadata": {
      "needs_background": "light"
     },
     "output_type": "display_data"
    }
   ],
   "source": [
    "test_ID = 1111\n",
    "\n",
    "max_price = int(x_test['price'].iloc[test_ID]*2)\n",
    "price_range = range(0, max_price, 1)\n",
    "\n",
    "x_in = pd.DataFrame(np.repeat(x_test.iloc[[test_ID]].values, max_price, axis=0))\n",
    "x_in.columns = x_test.columns\n",
    "x_in['price'] = pd.DataFrame(list(price_range)).iloc[:, 0]\n",
    "\n",
    "pred_occupancy = lgb.predict(x_in)\n",
    "pred_occupancy[pred_occupancy > 1] = 1 # ensure that occupancy% does not go above 100%\n",
    "pred_occupancy[pred_occupancy < 0] = 0 # ensure that occupancy% does not go below 0%\n",
    "pred_revenue = pred_occupancy*x_in['price']\n",
    "\n",
    "# -------------------------------------------------------------\n",
    "z_o = np.polyfit(price_range, pred_occupancy, 5)\n",
    "p_o = np.poly1d(z_o)\n",
    "xp_o = np.linspace(0, max_price, max_price)\n",
    "\n",
    "z_r = np.polyfit(price_range, pred_revenue*30, 4)\n",
    "p_r = np.poly1d(z_r)\n",
    "xp_r = np.linspace(0, max_price, max_price)\n",
    "# -------------------------------------------------------------\n",
    "print('original price is $', x_test['price'].iloc[test_ID])\n",
    "print('original monthly revenue is $', x_test['price'].iloc[test_ID]*y_test.iloc[test_ID]*30)\n",
    "print('model predicted monthly revenue is $', x_test['price'].iloc[test_ID]*y_pred_lgb[test_ID]*30)\n",
    "print('optimal monthly revenue is $', pred_revenue.max()*30)\n",
    "print('optimized price is $', np.argmax(pred_revenue))\n",
    "\n",
    "f,axs=plt.subplots(1,2, figsize=(20,10))\n",
    "\n",
    "axs[0].plot(price_range, pred_occupancy, 'gs',  markersize = 2, label='predicted results');\n",
    "axs[0].plot(xp_o,p_o(xp_o), linewidth=3, linestyle='--', label='polyfit')\n",
    "axs[0].set(xlim = (0, max_price), ylim = (-0.1,1));\n",
    "axs[0].set_xlabel('price', fontsize=28)\n",
    "axs[0].set_ylabel('pred. occupancy%', fontsize=28)\n",
    "axs[0].tick_params(axis=\"x\", labelsize=24)\n",
    "axs[0].tick_params(axis=\"y\", labelsize=24)\n",
    "\n",
    "axs[1].plot(price_range, pred_revenue*30, 'gs', markersize = 2);\n",
    "axs[1].plot(xp_r,p_r(xp_r), linewidth=3, linestyle='--')\n",
    "axs[1].set(xlim = (0, max_price), xlabel = 'price', ylabel = 'revenue');\n",
    "axs[1].set_xlabel('price', fontsize=28)\n",
    "axs[1].set_ylabel('pred. revenue', fontsize=28)\n",
    "axs[1].tick_params(axis=\"x\", labelsize=24)\n",
    "axs[1].tick_params(axis=\"y\", labelsize=24)\n",
    "\n",
    "# adjust the border width\n",
    "for axis in ['top','bottom','left','right']:\n",
    "    axs[0].spines[axis].set_linewidth(2)\n",
    "    axs[1].spines[axis].set_linewidth(2)\n",
    "\n",
    "f.subplots_adjust(wspace=0.4);"
   ]
  },
  {
   "cell_type": "code",
   "execution_count": 32,
   "metadata": {},
   "outputs": [
    {
     "data": {
      "text/plain": [
       "neighbourhood_cleansed    24.0  \n",
       "accommodates              2.0   \n",
       "price                     275.0 \n",
       "weekly_price              1925.0\n",
       "monthly_price             8250.0\n",
       "security_deposit          500.0 \n",
       "cleaning_fee              110.0 \n",
       "extra_people              0.0   \n",
       "minimum_nights            2.0   \n",
       "maximum_nights            1125.0\n",
       "Name: 2630, dtype: float64"
      ]
     },
     "execution_count": 32,
     "metadata": {},
     "output_type": "execute_result"
    }
   ],
   "source": [
    "x_test.iloc[497]"
   ]
  },
  {
   "cell_type": "code",
   "execution_count": 199,
   "metadata": {},
   "outputs": [
    {
     "data": {
      "text/plain": [
       "0      0.000000 \n",
       "1      0.734598 \n",
       "2      1.469197 \n",
       "3      2.203795 \n",
       "4      2.938393 \n",
       "5      3.672992 \n",
       "6      4.407590 \n",
       "7      5.142188 \n",
       "8      5.876787 \n",
       "9      6.611385 \n",
       "10     7.345983 \n",
       "11     8.080582 \n",
       "12     8.815180 \n",
       "13     9.549778 \n",
       "14     10.284377\n",
       "15     11.018975\n",
       "16     11.753573\n",
       "17     12.488172\n",
       "18     13.222770\n",
       "19     13.957368\n",
       "20     14.691967\n",
       "21     15.426565\n",
       "22     16.161164\n",
       "23     16.895762\n",
       "24     17.630360\n",
       "25     18.364959\n",
       "26     19.099557\n",
       "27     19.834155\n",
       "28     20.568754\n",
       "29     21.303352\n",
       "30     22.037950\n",
       "31     22.772549\n",
       "32     23.507147\n",
       "33     24.241745\n",
       "34     25.090271\n",
       "35     25.828220\n",
       "36     26.566169\n",
       "37     27.304118\n",
       "38     28.042068\n",
       "39     26.982817\n",
       "40     27.674684\n",
       "41     28.360020\n",
       "42     29.051728\n",
       "43     29.743436\n",
       "44     30.435144\n",
       "45     31.126851\n",
       "46     30.210419\n",
       "47     30.867167\n",
       "48     31.523915\n",
       "49     32.180663\n",
       "50     33.267686\n",
       "51     33.118196\n",
       "52     33.767572\n",
       "53     34.416949\n",
       "54     35.066325\n",
       "55     35.715701\n",
       "56     36.916542\n",
       "57     37.575766\n",
       "58     38.234990\n",
       "59     39.375718\n",
       "60     40.531196\n",
       "61     41.140089\n",
       "62     41.814516\n",
       "63     42.488944\n",
       "64     42.578230\n",
       "65     43.243514\n",
       "66     43.908799\n",
       "67     44.574084\n",
       "68     45.288385\n",
       "69     44.397226\n",
       "70     44.769450\n",
       "71     44.615598\n",
       "72     45.243987\n",
       "73     45.872376\n",
       "74     43.901403\n",
       "75     42.758690\n",
       "76     43.740517\n",
       "77     45.659007\n",
       "78     46.251981\n",
       "79     45.887158\n",
       "80     43.945054\n",
       "81     45.639707\n",
       "82     46.203161\n",
       "83     46.766614\n",
       "84     47.815907\n",
       "85     46.105470\n",
       "86     48.871711\n",
       "87     49.439986\n",
       "88     51.696912\n",
       "89     52.284377\n",
       "90     33.784392\n",
       "91     34.941667\n",
       "92     35.325641\n",
       "93     35.709615\n",
       "94     36.093590\n",
       "95     35.923984\n",
       "96     36.302131\n",
       "97     36.680278\n",
       "98     36.640627\n",
       "99     37.225818\n",
       "100    19.495981\n",
       "101    19.584625\n",
       "102    19.778532\n",
       "103    19.972439\n",
       "104    20.166347\n",
       "105    24.714227\n",
       "106    25.725689\n",
       "107    25.968384\n",
       "108    26.211079\n",
       "109    29.966123\n",
       "110    15.685313\n",
       "111    21.225658\n",
       "112    21.416880\n",
       "113    21.608102\n",
       "114    19.784111\n",
       "115    19.931745\n",
       "116    16.066687\n",
       "117    16.205193\n",
       "118    14.312170\n",
       "119    10.259679\n",
       "120    8.990729 \n",
       "121    10.816415\n",
       "122    10.905807\n",
       "123    10.396741\n",
       "124    10.481267\n",
       "125    13.209682\n",
       "126    1.016913 \n",
       "127    1.024984 \n",
       "128    1.033054 \n",
       "129    0.000000 \n",
       "130    0.000000 \n",
       "131    0.000000 \n",
       "132    0.000000 \n",
       "133    0.000000 \n",
       "134    0.000000 \n",
       "135    0.000000 \n",
       "136    0.047342 \n",
       "137    0.000000 \n",
       "138    0.000000 \n",
       "139    7.756170 \n",
       "140    0.000000 \n",
       "141    0.000000 \n",
       "142    0.000000 \n",
       "143    0.000000 \n",
       "144    0.000000 \n",
       "145    0.000000 \n",
       "146    0.000000 \n",
       "147    0.000000 \n",
       "148    0.000000 \n",
       "149    0.000000 \n",
       "Name: price, dtype: float64"
      ]
     },
     "execution_count": 199,
     "metadata": {},
     "output_type": "execute_result"
    }
   ],
   "source": [
    "pred_revenue"
   ]
  },
  {
   "cell_type": "code",
   "execution_count": 32,
   "metadata": {},
   "outputs": [
    {
     "name": "stdout",
     "output_type": "stream",
     "text": [
      "Wall time: 1min 31s\n"
     ]
    }
   ],
   "source": [
    "%%time\n",
    "# create final table\n",
    "df_out = pd.DataFrame(columns=['o_price', 'o_mon_rev', 'pred_mon_rev', 'opt_price', 'opt_mon_rev'])\n",
    "\n",
    "for test_ID in list(range(len(x_test))):\n",
    "    max_price = int(x_test['price'].iloc[test_ID]*2)   \n",
    "    price_range = range(0, max_price, 1)\n",
    "\n",
    "    x_in = pd.DataFrame(np.repeat(x_test.iloc[[test_ID]].values, max_price, axis=0))\n",
    "    x_in.columns = x_test.columns\n",
    "    x_in['price'] = pd.DataFrame(list(price_range)).iloc[:, 0]\n",
    "\n",
    "    pred_occupancy = lgb.predict(x_in)\n",
    "    pred_occupancy[pred_occupancy > 1] = 1 # ensure that occupancy% does not go above 100%\n",
    "    pred_occupancy[pred_occupancy < 0] = 0 # ensure that occupancy% does not go below 0%\n",
    "    pred_revenue = pred_occupancy*x_in['price']\n",
    "\n",
    "    df_out = df_out.append({'o_price':x_test['price'].iloc[test_ID], 'o_mon_rev':x_test['price'].iloc[test_ID]*y_test.iloc[test_ID]*30, 'pred_mon_rev':x_test['price'].iloc[test_ID]*y_pred_lgb[test_ID]*30, 'opt_price':np.argmax(pred_revenue), 'opt_mon_rev':pred_revenue.max()*30}, ignore_index=True)"
   ]
  },
  {
   "cell_type": "code",
   "execution_count": 33,
   "metadata": {},
   "outputs": [
    {
     "data": {
      "text/html": [
       "<div>\n",
       "<style scoped>\n",
       "    .dataframe tbody tr th:only-of-type {\n",
       "        vertical-align: middle;\n",
       "    }\n",
       "\n",
       "    .dataframe tbody tr th {\n",
       "        vertical-align: top;\n",
       "    }\n",
       "\n",
       "    .dataframe thead th {\n",
       "        text-align: right;\n",
       "    }\n",
       "</style>\n",
       "<table border=\"1\" class=\"dataframe\">\n",
       "  <thead>\n",
       "    <tr style=\"text-align: right;\">\n",
       "      <th></th>\n",
       "      <th>o_price</th>\n",
       "      <th>o_mon_rev</th>\n",
       "      <th>pred_mon_rev</th>\n",
       "      <th>opt_price</th>\n",
       "      <th>opt_mon_rev</th>\n",
       "      <th>diff_mon_rev</th>\n",
       "      <th>diff_mon_rev%</th>\n",
       "    </tr>\n",
       "  </thead>\n",
       "  <tbody>\n",
       "    <tr>\n",
       "      <th>count</th>\n",
       "      <td>3461.000000</td>\n",
       "      <td>3461.000000</td>\n",
       "      <td>3461.000000</td>\n",
       "      <td>3461.000000</td>\n",
       "      <td>3461.000000</td>\n",
       "      <td>3461.000000</td>\n",
       "      <td>3461.000000</td>\n",
       "    </tr>\n",
       "    <tr>\n",
       "      <th>mean</th>\n",
       "      <td>172.794568</td>\n",
       "      <td>2561.621978</td>\n",
       "      <td>2536.433538</td>\n",
       "      <td>167.116151</td>\n",
       "      <td>3283.650275</td>\n",
       "      <td>722.028297</td>\n",
       "      <td>146.924839</td>\n",
       "    </tr>\n",
       "    <tr>\n",
       "      <th>std</th>\n",
       "      <td>102.022287</td>\n",
       "      <td>2295.630985</td>\n",
       "      <td>1956.197501</td>\n",
       "      <td>86.714573</td>\n",
       "      <td>1905.522532</td>\n",
       "      <td>1209.710043</td>\n",
       "      <td>423.883030</td>\n",
       "    </tr>\n",
       "    <tr>\n",
       "      <th>min</th>\n",
       "      <td>30.000000</td>\n",
       "      <td>14.513889</td>\n",
       "      <td>-92.617894</td>\n",
       "      <td>33.000000</td>\n",
       "      <td>131.999137</td>\n",
       "      <td>-7232.794960</td>\n",
       "      <td>-67.899794</td>\n",
       "    </tr>\n",
       "    <tr>\n",
       "      <th>25%</th>\n",
       "      <td>99.000000</td>\n",
       "      <td>897.569444</td>\n",
       "      <td>1193.717369</td>\n",
       "      <td>115.000000</td>\n",
       "      <td>2115.422802</td>\n",
       "      <td>0.000000</td>\n",
       "      <td>0.000000</td>\n",
       "    </tr>\n",
       "    <tr>\n",
       "      <th>50%</th>\n",
       "      <td>147.000000</td>\n",
       "      <td>1950.000000</td>\n",
       "      <td>2087.120963</td>\n",
       "      <td>145.000000</td>\n",
       "      <td>2955.700879</td>\n",
       "      <td>514.832982</td>\n",
       "      <td>28.112013</td>\n",
       "    </tr>\n",
       "    <tr>\n",
       "      <th>75%</th>\n",
       "      <td>225.000000</td>\n",
       "      <td>3570.000000</td>\n",
       "      <td>3316.223786</td>\n",
       "      <td>175.000000</td>\n",
       "      <td>3982.136789</td>\n",
       "      <td>1421.332851</td>\n",
       "      <td>145.479162</td>\n",
       "    </tr>\n",
       "    <tr>\n",
       "      <th>max</th>\n",
       "      <td>500.000000</td>\n",
       "      <td>15000.000000</td>\n",
       "      <td>15235.918697</td>\n",
       "      <td>501.000000</td>\n",
       "      <td>15030.000000</td>\n",
       "      <td>10650.906311</td>\n",
       "      <td>13397.798396</td>\n",
       "    </tr>\n",
       "  </tbody>\n",
       "</table>\n",
       "</div>"
      ],
      "text/plain": [
       "           o_price     o_mon_rev  pred_mon_rev    opt_price   opt_mon_rev  \\\n",
       "count  3461.000000  3461.000000   3461.000000   3461.000000  3461.000000    \n",
       "mean   172.794568   2561.621978   2536.433538   167.116151   3283.650275    \n",
       "std    102.022287   2295.630985   1956.197501   86.714573    1905.522532    \n",
       "min    30.000000    14.513889    -92.617894     33.000000    131.999137     \n",
       "25%    99.000000    897.569444    1193.717369   115.000000   2115.422802    \n",
       "50%    147.000000   1950.000000   2087.120963   145.000000   2955.700879    \n",
       "75%    225.000000   3570.000000   3316.223786   175.000000   3982.136789    \n",
       "max    500.000000   15000.000000  15235.918697  501.000000   15030.000000   \n",
       "\n",
       "       diff_mon_rev  diff_mon_rev%  \n",
       "count  3461.000000   3461.000000    \n",
       "mean   722.028297    146.924839     \n",
       "std    1209.710043   423.883030     \n",
       "min   -7232.794960  -67.899794      \n",
       "25%    0.000000      0.000000       \n",
       "50%    514.832982    28.112013      \n",
       "75%    1421.332851   145.479162     \n",
       "max    10650.906311  13397.798396   "
      ]
     },
     "execution_count": 33,
     "metadata": {},
     "output_type": "execute_result"
    },
    {
     "name": "stdout",
     "output_type": "stream",
     "text": [
      "74.83 % of users benifit from the tool\n"
     ]
    }
   ],
   "source": [
    "df_out['diff_mon_rev'] = df_out['opt_mon_rev'] - df_out['o_mon_rev']\n",
    "df_out['diff_mon_rev%'] = df_out['diff_mon_rev']/df_out['o_mon_rev']*100\n",
    "\n",
    "# df_out = df_out[(df_out['o_price'] > 0) & (df_out['o_mon_rev'] > 0)]\n",
    "df_out.describe()\n",
    "print(round(df_out['diff_mon_rev%'][df_out['diff_mon_rev%'] > 0].count()/df_out.shape[0], 4)*100, '% of users benifit from the tool')"
   ]
  },
  {
   "cell_type": "code",
   "execution_count": 200,
   "metadata": {},
   "outputs": [
    {
     "name": "stdout",
     "output_type": "stream",
     "text": [
      "For those who benifit\n",
      "gross revenue increase is 63.49 %\n",
      "25% of these users get 214.61 %+ monthly revenue increase\n",
      "50% of these users get 66.55 %+ monthly revenue increase\n",
      "75% of these users get 17.55 %+ monthly revenue increase\n"
     ]
    }
   ],
   "source": [
    "df_ben = df_out[df_out['diff_mon_rev'] > 0]\n",
    "print('For those who benifit')\n",
    "print('gross revenue increase is', round((df_ben['diff_mon_rev'].sum()/df_ben['o_mon_rev'].sum())*100, 2), '%')\n",
    "\n",
    "print('25% of these users get', round(df_ben.describe().iloc[6,6], 2), '%+ monthly revenue increase')\n",
    "print('50% of these users get', round(df_ben.describe().iloc[5,6], 2), '%+ monthly revenue increase')\n",
    "print('75% of these users get', round(df_ben.describe().iloc[4,6], 2), '%+ monthly revenue increase')"
   ]
  },
  {
   "cell_type": "markdown",
   "metadata": {},
   "source": [
    "#### Model (web domain)"
   ]
  },
  {
   "cell_type": "code",
   "execution_count": 739,
   "metadata": {
    "scrolled": true
   },
   "outputs": [
    {
     "name": "stdout",
     "output_type": "stream",
     "text": [
      "Wall time: 3.63 s\n"
     ]
    }
   ],
   "source": [
    "%%time\n",
    "x_go = df_go.drop(['id', 'reviews_per_month','occupancy_%', 'revenue'], axis=1)\n",
    "y_go = df_go['occupancy_%']\n",
    "\n",
    "lgb = LGBMRegressor(max_depth=max_depth,\n",
    "                    n_estimators=n_estimator,\n",
    "                    random_state=random_state)\n",
    "lgb.fit(x_go, y_go, categorical_feature=list(object_columns.values))\n",
    "lgb.booster_.save_model('lgb_regressor.txt')"
   ]
  },
  {
   "cell_type": "code",
   "execution_count": 796,
   "metadata": {},
   "outputs": [
    {
     "data": {
      "text/plain": [
       "16"
      ]
     },
     "execution_count": 796,
     "metadata": {},
     "output_type": "execute_result"
    }
   ],
   "source": [
    "df_new['guests_included'].max()"
   ]
  },
  {
   "cell_type": "code",
   "execution_count": 760,
   "metadata": {},
   "outputs": [
    {
     "data": {
      "text/plain": [
       "array([('host_response_time', array(['NA', 'a few days or more', 'within a day', 'within a few hours',\n",
       "       'within an hour'], dtype=object)),\n",
       "       ('neighbourhood_cleansed', array(['Bayview', 'Bernal Heights', 'Castro/Upper Market', 'Chinatown',\n",
       "       'Crocker Amazon', 'Diamond Heights', 'Downtown/Civic Center',\n",
       "       'Excelsior', 'Financial District', 'Glen Park', 'Golden Gate Park',\n",
       "       'Haight Ashbury', 'Inner Richmond', 'Inner Sunset', 'Lakeshore',\n",
       "       'Marina', 'Mission', 'Nob Hill', 'Noe Valley', 'North Beach',\n",
       "       'Ocean View', 'Outer Mission', 'Outer Richmond', 'Outer Sunset',\n",
       "       'Pacific Heights', 'Parkside', 'Potrero Hill', 'Presidio',\n",
       "       'Presidio Heights', 'Russian Hill', 'Seacliff', 'South of Market',\n",
       "       'Twin Peaks', 'Visitacion Valley', 'West of Twin Peaks',\n",
       "       'Western Addition'], dtype=object)),\n",
       "       ('property_type', array(['Aparthotel', 'Apartment', 'Bed and breakfast', 'Boat',\n",
       "       'Boutique hotel', 'Bungalow', 'Cabin', 'Camper/RV', 'Castle',\n",
       "       'Condominium', 'Cottage', 'Earth house', 'Guest suite',\n",
       "       'Guesthouse', 'Hostel', 'Hotel', 'House', 'Hut', 'In-law', 'Loft',\n",
       "       'Other', 'Resort', 'Serviced apartment', 'Tent', 'Tiny house',\n",
       "       'Townhouse', 'Villa'], dtype=object)),\n",
       "       ('room_type', array(['Entire home/apt', 'Private room', 'Shared room'], dtype=object)),\n",
       "       ('instant_bookable', array(['f', 't'], dtype=object)),\n",
       "       ('cancellation_policy', array(['flexible', 'moderate', 'strict', 'strict_14_with_grace_period',\n",
       "       'super_strict_30', 'super_strict_60'], dtype=object))],\n",
       "      dtype=object)"
      ]
     },
     "execution_count": 760,
     "metadata": {},
     "output_type": "execute_result"
    }
   ],
   "source": [
    "mcle.all_classes_"
   ]
  },
  {
   "cell_type": "code",
   "execution_count": 798,
   "metadata": {},
   "outputs": [
    {
     "name": "stdout",
     "output_type": "stream",
     "text": [
      "<option value=\"0\">flexible</option>\n",
      "<option value=\"1\">moderate</option>\n",
      "<option value=\"2\">strict</option>\n",
      "<option value=\"3\">strict_14_with_grace_period</option>\n",
      "<option value=\"4\">super_strict_30</option>\n",
      "<option value=\"5\">super_strict_60</option>\n"
     ]
    }
   ],
   "source": [
    "a_list = ['flexible', 'moderate', 'strict', 'strict_14_with_grace_period',\n",
    "       'super_strict_30', 'super_strict_60']\n",
    "\n",
    "for i, s in enumerate(a_list):\n",
    "    print('<option value=\"%d\">%s</option>' %(i, s))"
   ]
  },
  {
   "cell_type": "code",
   "execution_count": 777,
   "metadata": {},
   "outputs": [
    {
     "data": {
      "text/plain": [
       "0    Western Addition\n",
       "1    Bernal Heights  \n",
       "2    Haight Ashbury  \n",
       "3    Haight Ashbury  \n",
       "5    Western Addition\n",
       "Name: neighbourhood_cleansed, dtype: object"
      ]
     },
     "execution_count": 777,
     "metadata": {},
     "output_type": "execute_result"
    }
   ],
   "source": [
    "df_new['neighbourhood_cleansed'].head()"
   ]
  },
  {
   "cell_type": "markdown",
   "metadata": {},
   "source": [
    "#### RandomForest"
   ]
  },
  {
   "cell_type": "code",
   "execution_count": 384,
   "metadata": {},
   "outputs": [],
   "source": [
    "# Set general hyperparameters for all ML packages using the grid search result\n",
    "max_depth = 10\n",
    "n_estimator = 120\n",
    "random_state = 110"
   ]
  },
  {
   "cell_type": "code",
   "execution_count": 386,
   "metadata": {
    "scrolled": true
   },
   "outputs": [
    {
     "name": "stdout",
     "output_type": "stream",
     "text": [
      "Wall time: 12.7 s\n"
     ]
    }
   ],
   "source": [
    "%%time\n",
    "# start = time.time()\n",
    "rf = RandomForestRegressor(max_depth=max_depth,\n",
    "                    n_estimators=n_estimator,\n",
    "                    random_state=random_state)\n",
    "rf.fit(x_train, y_train)\n",
    "# acc_rf = accuracy_score(y_test, rf.predict(x_test))\n",
    "y_pred_rf = rf.predict(x_test)\n",
    "# fpr_rf, tpr_rf, _ = roc_curve(y_test, y_pred_rf, drop_intermediate=False)\n",
    "# auc_rf = roc_auc_score(y_test, y_pred_rf)\n",
    "# end = time.time()\n",
    "# time_rf = end - start\n",
    "# print(\"The entire evaluation takes\", time_rf, \"s\")"
   ]
  },
  {
   "cell_type": "code",
   "execution_count": 387,
   "metadata": {
    "scrolled": true
   },
   "outputs": [
    {
     "name": "stdout",
     "output_type": "stream",
     "text": [
      "RMSE = 0.330117136560649\n",
      "R^2 = 0.1710888160707691\n",
      "RMSE = 70.79492190682964\n",
      "R^2 = 0.27832114645174777\n",
      "Wall time: 26.9 ms\n"
     ]
    },
    {
     "data": {
      "image/png": "[encoded data removed]",
      "text/plain": [
       "<Figure size 432x288 with 2 Axes>"
      ]
     },
     "metadata": {
      "needs_background": "light"
     },
     "output_type": "display_data"
    }
   ],
   "source": [
    "%%time\n",
    "f, axs = plt.subplots(1, 2)\n",
    "\n",
    "axs[0].plot(y_test, y_pred_rf, 'gs', markersize=3)\n",
    "axs[0].set(xlim=(0, 1), ylim=(0, 1), xlabel='Est. Occupancy%', ylabel='Pred. Occupancy%', title= 'Gradient Boosting (RF)')\n",
    "axs[0].plot([0, 1000], [0, 1000], 'k--')\n",
    "\n",
    "axs[1].plot(x_test['price']*y_test, x_test['price']*y_pred_rf, 'gs', markersize=3)\n",
    "axs[1].set(xlim=(0, 500), ylim=(0, 500), xlabel='Est. Revenue', ylabel='Pred. Revenue', title= 'Gradient Boosting (RF)')\n",
    "axs[1].plot([0, 500], [0, 500], 'k--')\n",
    "f.subplots_adjust(wspace=0.4);\n",
    "\n",
    "print('RMSE =', np.sqrt(mean_squared_error(y_test, y_pred_rf)))\n",
    "print('R^2 =', r2_score(y_test, y_pred_rf))\n",
    "print('RMSE =', np.sqrt(mean_squared_error(x_test['price']*y_test, x_test['price']*y_pred_rf)))\n",
    "print('R^2 =',r2_score(x_test['price']*y_test, x_test['price']*y_pred_rf))"
   ]
  },
  {
   "cell_type": "code",
   "execution_count": 305,
   "metadata": {
    "scrolled": true
   },
   "outputs": [
    {
     "name": "stdout",
     "output_type": "stream",
     "text": [
      "original price is $ 45.0\n",
      "original monthly revenue is $ 783.7500000000001\n",
      "model predicted monthly revenue is $ 974.6680834206554\n",
      "optimal monthly revenue is $ 1193.2062963417643\n",
      "optimized price is $ 55\n"
     ]
    },
    {
     "data": {
      "image/png": "[encoded data removed]",
      "text/plain": [
       "<Figure size 432x288 with 2 Axes>"
      ]
     },
     "metadata": {
      "needs_background": "light"
     },
     "output_type": "display_data"
    }
   ],
   "source": [
    "test_ID = 1428\n",
    "if x_test['price'].iloc[test_ID] > 0:\n",
    "    max_price = int(x_test['price'].iloc[test_ID]*1.5)\n",
    "else:\n",
    "    max_price = 500\n",
    "\n",
    "price_range = range(0, max_price, 1)\n",
    "\n",
    "x_in = pd.DataFrame(np.repeat(x_test.iloc[[test_ID]].values, max_price, axis=0))\n",
    "x_in.columns = x_test.columns\n",
    "x_in['price'] = pd.DataFrame(list(price_range)).iloc[:, 0]\n",
    "\n",
    "pred_occupancy = rf.predict(x_in)\n",
    "pred_occupancy[pred_occupancy < 0] = 0 # ensure that occupancy% does not go below 0%\n",
    "pred_revenue = pred_occupancy*x_in['price']\n",
    "\n",
    "xnew1 = np.linspace(0, max_price-2, 30)\n",
    "spl1 = make_interp_spline(price_range, pred_revenue, k=3)  #BSpline object\n",
    "power_smooth1 = spl1(xnew1)\n",
    "\n",
    "xnew2 = np.linspace(0, max_price-2, 30)\n",
    "spl2 = make_interp_spline(price_range, pred_occupancy, k=3)  #BSpline object\n",
    "power_smooth2 = spl2(xnew2)\n",
    "\n",
    "print('original price is $', x_test['price'].iloc[test_ID])\n",
    "print('original monthly revenue is $', x_test['price'].iloc[test_ID]*y_test.iloc[test_ID]*30)\n",
    "print('model predicted monthly revenue is $', x_test['price'].iloc[test_ID]*y_pred_rf[test_ID]*30)\n",
    "print('optimal monthly revenue is $', pred_revenue.max()*30)\n",
    "print('optimized price is $', np.argmax(pred_revenue))\n",
    "\n",
    "f,axs=plt.subplots(1,2)\n",
    "\n",
    "axs[0].plot(price_range, pred_occupancy, 'gs', markersize = 1);\n",
    "axs[0].plot(xnew2,power_smooth2)\n",
    "axs[0].set(xlim = (0, max_price), ylim = (0,1) , xlabel = 'price', ylabel = 'occupancy %');\n",
    "\n",
    "axs[1].plot(price_range, pred_revenue, 'gs', markersize = 1);\n",
    "axs[1].plot(xnew1,power_smooth1)\n",
    "axs[1].set(xlim = (0, max_price), xlabel = 'price', ylabel = 'revenue');\n",
    "\n",
    "f.subplots_adjust(wspace=0.4);"
   ]
  },
  {
   "cell_type": "code",
   "execution_count": null,
   "metadata": {},
   "outputs": [],
   "source": []
  }
 ],
 "metadata": {
  "kernelspec": {
   "display_name": "Python 3",
   "language": "python",
   "name": "python3"
  },
  "language_info": {
   "codemirror_mode": {
    "name": "ipython",
    "version": 3
   },
   "file_extension": ".py",
   "mimetype": "text/x-python",
   "name": "python",
   "nbconvert_exporter": "python",
   "pygments_lexer": "ipython3",
   "version": "3.7.1"
  }
 },
 "nbformat": 4,
 "nbformat_minor": 2
}
